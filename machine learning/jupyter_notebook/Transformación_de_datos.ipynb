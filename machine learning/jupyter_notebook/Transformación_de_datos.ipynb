{
 "cells": [
  {
   "cell_type": "markdown",
   "metadata": {},
   "source": [
    "# Transformación de datos"
   ]
  },
  {
   "cell_type": "code",
   "execution_count": null,
   "metadata": {},
   "outputs": [],
   "source": [
    "import pse as PseAAC\n",
    "from pse import AAIndex\n",
    "import acc as ACC\n",
    "import AAComposition as AAC\n",
    "\n",
    "import sys\n",
    "import os\n",
    "import pickle\n",
    "from math import pow\n",
    "import time\n",
    "import errno\n",
    "\n",
    "import const\n",
    "from util import frequency\n",
    "from util import get_data\n",
    "from util import check_args, read_k, write_to_file\n",
    "from nac import make_kmer_list\n",
    "from data import index_list\n",
    "from pse import get_aaindex\n",
    "import pandas as pd\n",
    "import arff"
   ]
  },
  {
   "cell_type": "markdown",
   "metadata": {},
   "source": [
    "# Declaración de variables"
   ]
  },
  {
   "cell_type": "code",
   "execution_count": null,
   "metadata": {},
   "outputs": [],
   "source": [
    "#organismo =\"archaea\"\n",
    "organismo =\"E_coli\"\n",
    "#organismo=\"Heterodera\"\n",
    "#organismo=\"Meloidogyne\"\n",
    "#organismo=\"Globodera\"\n",
    "#organismo=\"fusarium_oxysporum\"\n",
    "#organismo=\"nematoda\"\n",
    "dataset = 1\n",
    "nombre = (\"ds\" + str(dataset) + \"_\" + str(organismo))\n",
    "\n",
    "r1 = (\"Datos/listas/\"+ str(organismo) + \"/\" + str(nombre))\n",
    "r2 = (\"Datos/resultados/\"+ str(organismo) + \"/\" + str(nombre))\n",
    "r3 = (str(r2) + \"/temp\")\n",
    "\n",
    "#Ruta a los archivos \n",
    "efectores_csv = pd.read_csv(str (r1) + '/' + str(nombre) + '_efectores.csv', sep = ',')\n",
    "efectores_fasta = (str (r1) + '/' + str(nombre) + '_efectores.fasta')\n",
    "no_efectores_csv = pd.read_csv(str (r1) + '/' + str(nombre) + '_no_efectores.csv', sep = ',')\n",
    "no_efectores_fasta = (str (r1) + '/' + str(nombre) + '_no_efectores.fasta')\n",
    "\n",
    "#índices fisicoquímicos \n",
    "ind_1 =('Hydrophobicity', 'Hydrophilicity', 'Mass')\n",
    "ind_2 =('Hydrophobicity', 'Hydrophilicity')\n",
    "ind_3 =('Mass')\n",
    "\n",
    "tipo = [str(efectores_fasta), str(no_efectores_fasta)]\n"
   ]
  },
  {
   "cell_type": "code",
   "execution_count": null,
   "metadata": {},
   "outputs": [],
   "source": [
    "efectores_csv"
   ]
  },
  {
   "cell_type": "code",
   "execution_count": null,
   "metadata": {},
   "outputs": [],
   "source": [
    "no_efectores_csv"
   ]
  },
  {
   "cell_type": "markdown",
   "metadata": {},
   "source": [
    "# Composición de aminoácidos (AAC)"
   ]
  },
  {
   "cell_type": "code",
   "execution_count": null,
   "metadata": {},
   "outputs": [],
   "source": [
    "#AAC\n",
    "comp = \"AAC\"\n",
    "\n",
    "matrix_efec = []\n",
    "for idx,row in efectores_csv.iterrows(): #iterar por renglones\n",
    "    sec = row['secuencia']\n",
    "    seq_efectores = AAC.CalculateAAComposition(sec)\n",
    "    \n",
    "    list_1 = []\n",
    "    for k in seq_efectores.keys():\n",
    "        list_1.append(seq_efectores[k])    \n",
    "    \n",
    "    list_1.append(row['etiqueta'])\n",
    "    matrix_efec.append(list_1)\n",
    "    \n",
    "#nombre del txt\n",
    "nom = ('ds' + str(dataset) + '_' + str(comp) + '_efectores_' + str(organismo) + '.temp')\n",
    "\n",
    "#ruta al directorio donde se almacenara            \n",
    "os.makedirs(str(r3), exist_ok=True)\n",
    "resultado = ((r3) + '/' + str(nom))\n",
    "\n",
    "\n",
    "with open(resultado, 'w') as f:    \n",
    "    print(matrix_efec, file=f) \n"
   ]
  },
  {
   "cell_type": "code",
   "execution_count": null,
   "metadata": {},
   "outputs": [],
   "source": [
    "#AAC\n",
    "comp = \"AAC\"\n",
    "\n",
    "matrix_no_efec = []\n",
    "for idx,row in no_efectores_csv.iterrows(): #iterar por renglones\n",
    "    sec2 = row['secuencia']\n",
    "    seq_no_efectores = AAC.CalculateAAComposition(sec2)\n",
    "    \n",
    "    list_2 = []\n",
    "    for k in seq_no_efectores.keys():\n",
    "        list_2.append(seq_no_efectores[k])    \n",
    "    \n",
    "    list_2.append(row['etiqueta'])\n",
    "    matrix_no_efec.append(list_2) \n",
    "    \n",
    "\n",
    "#nombre del txt\n",
    "nom = ('ds' + str(dataset) + '_' + str(comp) + '_no_efectores_' + str(organismo) + '.temp')\n",
    "\n",
    "#ruta al directorio donde se almacenara            \n",
    "os.makedirs(str(r3), exist_ok=True)\n",
    "resultado = ((r3) + '/' + str(nom))\n",
    "\n",
    "with open(resultado, 'w') as f:    \n",
    "    print(matrix_no_efec, file=f) "
   ]
  },
  {
   "cell_type": "code",
   "execution_count": null,
   "metadata": {},
   "outputs": [],
   "source": [
    "df_dataset=pd.concat ([pd.DataFrame(matrix_efec),pd.DataFrame(matrix_no_efec)])"
   ]
  },
  {
   "cell_type": "code",
   "execution_count": null,
   "metadata": {},
   "outputs": [],
   "source": [
    "df_dataset"
   ]
  },
  {
   "cell_type": "code",
   "execution_count": null,
   "metadata": {},
   "outputs": [],
   "source": [
    "print (len(matrix_efec[0]))\n"
   ]
  },
  {
   "cell_type": "markdown",
   "metadata": {},
   "source": [
    "# Covarianza de auto cruzamiento (ACC)"
   ]
  },
  {
   "cell_type": "code",
   "execution_count": null,
   "metadata": {},
   "outputs": [],
   "source": [
    "comp = \"ACC\"\n",
    "\n",
    "for z in 1, 2, 3:    \n",
    "    if z == 1:\n",
    "        indice = ind_1\n",
    "        res_ind = \"hidro_mass\"\n",
    "\n",
    "    if z == 2:\n",
    "        indice = ind_2\n",
    "        res_ind = \"hidro\"\n",
    "\n",
    "    if z == 3:\n",
    "        indice = [ind_3]\n",
    "        res_ind = \"mass\"        \n",
    "\n",
    "    for x in tipo:\n",
    "        for ind in indice:\n",
    "            out = ACC.acc(open(x), k=1, lag=13, theta_type=3,phyche_list=[ind], alphabet=index_list.PROTEIN)\n",
    "\n",
    "\n",
    "            #Establece la etiqueta\n",
    "            if x == str(efectores_fasta):\n",
    "                etiq = \"efectores\"\n",
    "\n",
    "            if x == str(no_efectores_fasta):\n",
    "                etiq = \"no_efectores\"\n",
    "\n",
    "            #nombre del txt\n",
    "            nom = ('ds' + str(dataset) + '_' + str(comp) + '_' + str(res_ind) + '_' + str(etiq) + '_' + str(organismo) + '.temp')\n",
    "\n",
    "            #ruta al directorio donde se almacenara            \n",
    "            os.makedirs(str(r3), exist_ok=True)\n",
    "            resultado = ((r3) + '/' + str(nom))\n",
    "\n",
    "            with open(resultado, 'w') as f:    \n",
    "                print(out, file=f) \n",
    "                \n",
    "            print (indice) \n",
    "            print (len(out[0]))"
   ]
  },
  {
   "cell_type": "markdown",
   "metadata": {},
   "source": [
    "# Composición de pseudo aminoácidos (PseAAC)"
   ]
  },
  {
   "cell_type": "code",
   "execution_count": null,
   "metadata": {},
   "outputs": [],
   "source": [
    "#PseAAC\n",
    "comp = \"PseAAC\"\n",
    "k = 1 # no varia k para este algoritmo\n",
    "w = 0.5 # peso de los índices \n",
    "lamada = 21 # número de niveles para el factores de correlación \n",
    "alphabet_list = index_list.PROTEIN\n",
    "e = None\n",
    "aa = False\n",
    "theta_type = 2 #parallel\n",
    "\n",
    "for z in 1, 2, 3:    \n",
    "    if z == 1:\n",
    "        indice = ind_1\n",
    "        res_ind = \"hidro_mass\"\n",
    "\n",
    "    if z == 2:\n",
    "        indice = ind_2\n",
    "        res_ind = \"hidro\"\n",
    "\n",
    "    if z == 3:\n",
    "        indice = [ind_3]\n",
    "        res_ind = \"mass\" \n",
    "\n",
    "    for x in tipo:\n",
    "        for ind in indice:\n",
    "            out = PseAAC.pseknc(open(x), k, w, lamada, indice, alphabet_list,extra_index_file=e, all_prop=aa, theta_type=theta_type)           \n",
    "\n",
    "\n",
    "            #Establece la etiqueta\n",
    "            if x == str(efectores_fasta):\n",
    "                etiq = \"efectores\"\n",
    "\n",
    "            if x == str(no_efectores_fasta):\n",
    "                etiq = \"no_efectores\"\n",
    "\n",
    "\n",
    "            #nombre del txt\n",
    "            nom = ('ds' + str(dataset) + '_' + str(comp) + '_' + str(res_ind) + '_' + str(etiq) + '_' + str(organismo) + '.temp')\n",
    "\n",
    "            #ruta al directorio donde se almacenara            \n",
    "            os.makedirs(str(r3), exist_ok=True)\n",
    "            resultado = ((r3) + '/' + str(nom))\n",
    "\n",
    "\n",
    "            with open(resultado, 'w') as f:    \n",
    "                print(out, file=f) \n",
    "                \n",
    "            print (indice) \n",
    "            print (len(out[0]))"
   ]
  },
  {
   "cell_type": "code",
   "execution_count": null,
   "metadata": {},
   "outputs": [],
   "source": []
  }
 ],
 "metadata": {
  "kernelspec": {
   "display_name": "Python 3 (ipykernel)",
   "language": "python",
   "name": "python3"
  },
  "language_info": {
   "codemirror_mode": {
    "name": "ipython",
    "version": 3
   },
   "file_extension": ".py",
   "mimetype": "text/x-python",
   "name": "python",
   "nbconvert_exporter": "python",
   "pygments_lexer": "ipython3",
   "version": "3.13.0"
  }
 },
 "nbformat": 4,
 "nbformat_minor": 4
}
